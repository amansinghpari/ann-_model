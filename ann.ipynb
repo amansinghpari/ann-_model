{
 "cells": [
  {
   "cell_type": "code",
   "execution_count": 1,
   "id": "e745b754",
   "metadata": {},
   "outputs": [
    {
     "name": "stdout",
     "output_type": "stream",
     "text": [
      "2.10.0\n"
     ]
    }
   ],
   "source": [
    "import tensorflow as tf\n",
    "print(tf.__version__)"
   ]
  },
  {
   "cell_type": "code",
   "execution_count": 2,
   "id": "95f2d7e8",
   "metadata": {},
   "outputs": [],
   "source": [
    "import numpy as np\n",
    "import matplotlib.pyplot as plt\n",
    "import pandas as pd"
   ]
  },
  {
   "cell_type": "code",
   "execution_count": 3,
   "id": "1a93751a",
   "metadata": {},
   "outputs": [],
   "source": [
    "df=pd.read_csv(\"Churn_Modelling.csv\")"
   ]
  },
  {
   "cell_type": "code",
   "execution_count": 4,
   "id": "07c9d076",
   "metadata": {},
   "outputs": [
    {
     "data": {
      "text/html": [
       "<div>\n",
       "<style scoped>\n",
       "    .dataframe tbody tr th:only-of-type {\n",
       "        vertical-align: middle;\n",
       "    }\n",
       "\n",
       "    .dataframe tbody tr th {\n",
       "        vertical-align: top;\n",
       "    }\n",
       "\n",
       "    .dataframe thead th {\n",
       "        text-align: right;\n",
       "    }\n",
       "</style>\n",
       "<table border=\"1\" class=\"dataframe\">\n",
       "  <thead>\n",
       "    <tr style=\"text-align: right;\">\n",
       "      <th></th>\n",
       "      <th>RowNumber</th>\n",
       "      <th>CustomerId</th>\n",
       "      <th>Surname</th>\n",
       "      <th>CreditScore</th>\n",
       "      <th>Geography</th>\n",
       "      <th>Gender</th>\n",
       "      <th>Age</th>\n",
       "      <th>Tenure</th>\n",
       "      <th>Balance</th>\n",
       "      <th>NumOfProducts</th>\n",
       "      <th>HasCrCard</th>\n",
       "      <th>IsActiveMember</th>\n",
       "      <th>EstimatedSalary</th>\n",
       "      <th>Exited</th>\n",
       "    </tr>\n",
       "  </thead>\n",
       "  <tbody>\n",
       "    <tr>\n",
       "      <th>0</th>\n",
       "      <td>1</td>\n",
       "      <td>15634602</td>\n",
       "      <td>Hargrave</td>\n",
       "      <td>619</td>\n",
       "      <td>France</td>\n",
       "      <td>Female</td>\n",
       "      <td>42</td>\n",
       "      <td>2</td>\n",
       "      <td>0.00</td>\n",
       "      <td>1</td>\n",
       "      <td>1</td>\n",
       "      <td>1</td>\n",
       "      <td>101348.88</td>\n",
       "      <td>1</td>\n",
       "    </tr>\n",
       "    <tr>\n",
       "      <th>1</th>\n",
       "      <td>2</td>\n",
       "      <td>15647311</td>\n",
       "      <td>Hill</td>\n",
       "      <td>608</td>\n",
       "      <td>Spain</td>\n",
       "      <td>Female</td>\n",
       "      <td>41</td>\n",
       "      <td>1</td>\n",
       "      <td>83807.86</td>\n",
       "      <td>1</td>\n",
       "      <td>0</td>\n",
       "      <td>1</td>\n",
       "      <td>112542.58</td>\n",
       "      <td>0</td>\n",
       "    </tr>\n",
       "    <tr>\n",
       "      <th>2</th>\n",
       "      <td>3</td>\n",
       "      <td>15619304</td>\n",
       "      <td>Onio</td>\n",
       "      <td>502</td>\n",
       "      <td>France</td>\n",
       "      <td>Female</td>\n",
       "      <td>42</td>\n",
       "      <td>8</td>\n",
       "      <td>159660.80</td>\n",
       "      <td>3</td>\n",
       "      <td>1</td>\n",
       "      <td>0</td>\n",
       "      <td>113931.57</td>\n",
       "      <td>1</td>\n",
       "    </tr>\n",
       "    <tr>\n",
       "      <th>3</th>\n",
       "      <td>4</td>\n",
       "      <td>15701354</td>\n",
       "      <td>Boni</td>\n",
       "      <td>699</td>\n",
       "      <td>France</td>\n",
       "      <td>Female</td>\n",
       "      <td>39</td>\n",
       "      <td>1</td>\n",
       "      <td>0.00</td>\n",
       "      <td>2</td>\n",
       "      <td>0</td>\n",
       "      <td>0</td>\n",
       "      <td>93826.63</td>\n",
       "      <td>0</td>\n",
       "    </tr>\n",
       "    <tr>\n",
       "      <th>4</th>\n",
       "      <td>5</td>\n",
       "      <td>15737888</td>\n",
       "      <td>Mitchell</td>\n",
       "      <td>850</td>\n",
       "      <td>Spain</td>\n",
       "      <td>Female</td>\n",
       "      <td>43</td>\n",
       "      <td>2</td>\n",
       "      <td>125510.82</td>\n",
       "      <td>1</td>\n",
       "      <td>1</td>\n",
       "      <td>1</td>\n",
       "      <td>79084.10</td>\n",
       "      <td>0</td>\n",
       "    </tr>\n",
       "  </tbody>\n",
       "</table>\n",
       "</div>"
      ],
      "text/plain": [
       "   RowNumber  CustomerId   Surname  CreditScore Geography  Gender  Age  \\\n",
       "0          1    15634602  Hargrave          619    France  Female   42   \n",
       "1          2    15647311      Hill          608     Spain  Female   41   \n",
       "2          3    15619304      Onio          502    France  Female   42   \n",
       "3          4    15701354      Boni          699    France  Female   39   \n",
       "4          5    15737888  Mitchell          850     Spain  Female   43   \n",
       "\n",
       "   Tenure    Balance  NumOfProducts  HasCrCard  IsActiveMember  \\\n",
       "0       2       0.00              1          1               1   \n",
       "1       1   83807.86              1          0               1   \n",
       "2       8  159660.80              3          1               0   \n",
       "3       1       0.00              2          0               0   \n",
       "4       2  125510.82              1          1               1   \n",
       "\n",
       "   EstimatedSalary  Exited  \n",
       "0        101348.88       1  \n",
       "1        112542.58       0  \n",
       "2        113931.57       1  \n",
       "3         93826.63       0  \n",
       "4         79084.10       0  "
      ]
     },
     "execution_count": 4,
     "metadata": {},
     "output_type": "execute_result"
    }
   ],
   "source": [
    "df.head()"
   ]
  },
  {
   "cell_type": "code",
   "execution_count": 5,
   "id": "c1361fb5",
   "metadata": {},
   "outputs": [],
   "source": [
    "x=df.iloc[:,3:-1]"
   ]
  },
  {
   "cell_type": "code",
   "execution_count": 6,
   "id": "4c026f33",
   "metadata": {},
   "outputs": [],
   "source": [
    "y=df.iloc[:,-1]"
   ]
  },
  {
   "cell_type": "code",
   "execution_count": 7,
   "id": "26d33b86",
   "metadata": {},
   "outputs": [],
   "source": [
    "geography=pd.get_dummies(x['Geography'],drop_first=True)\n",
    "gender=pd.get_dummies(x['Gender'],drop_first=True)"
   ]
  },
  {
   "cell_type": "code",
   "execution_count": 8,
   "id": "b5e03245",
   "metadata": {},
   "outputs": [],
   "source": [
    "x=x.drop(['Geography','Gender'],axis=1)"
   ]
  },
  {
   "cell_type": "code",
   "execution_count": 9,
   "id": "c302f7e3",
   "metadata": {},
   "outputs": [],
   "source": [
    "x=pd.concat([x,geography,gender],axis=1)"
   ]
  },
  {
   "cell_type": "code",
   "execution_count": 10,
   "id": "3144ee53",
   "metadata": {},
   "outputs": [],
   "source": [
    "from sklearn.model_selection import train_test_split"
   ]
  },
  {
   "cell_type": "code",
   "execution_count": 11,
   "id": "62f38618",
   "metadata": {},
   "outputs": [],
   "source": [
    "xtrain,xtest,ytrain,ytest=train_test_split(x,y,test_size=.2,random_state=0)"
   ]
  },
  {
   "cell_type": "code",
   "execution_count": 12,
   "id": "f9faeefe",
   "metadata": {},
   "outputs": [],
   "source": [
    "from sklearn.preprocessing import StandardScaler"
   ]
  },
  {
   "cell_type": "code",
   "execution_count": 13,
   "id": "cd34a995",
   "metadata": {},
   "outputs": [],
   "source": [
    "sc=StandardScaler()"
   ]
  },
  {
   "cell_type": "code",
   "execution_count": 14,
   "id": "f6a099d4",
   "metadata": {},
   "outputs": [
    {
     "name": "stderr",
     "output_type": "stream",
     "text": [
      "C:\\Users\\Aman\\anaconda3\\lib\\site-packages\\sklearn\\base.py:450: UserWarning: X does not have valid feature names, but StandardScaler was fitted with feature names\n",
      "  warnings.warn(\n"
     ]
    }
   ],
   "source": [
    "xtrain=sc.fit_transform(xtrain)\n",
    "xtest=sc.transform(xtrain)"
   ]
  },
  {
   "cell_type": "code",
   "execution_count": 15,
   "id": "5cd9e3b5",
   "metadata": {},
   "outputs": [],
   "source": [
    "from tensorflow.keras.models import Sequential\n",
    "from tensorflow.keras.layers import Dense\n",
    "from tensorflow.keras.layers import PReLU,ReLU,ELU,LeakyReLU\n",
    "from tensorflow.keras.layers import Dropout"
   ]
  },
  {
   "cell_type": "code",
   "execution_count": 16,
   "id": "b3fdc41b",
   "metadata": {},
   "outputs": [],
   "source": [
    "classifier=Sequential()"
   ]
  },
  {
   "cell_type": "code",
   "execution_count": 17,
   "id": "599a8387",
   "metadata": {},
   "outputs": [],
   "source": [
    "classifier.add(Dense(units=11,activation='relu'))"
   ]
  },
  {
   "cell_type": "code",
   "execution_count": 18,
   "id": "78d06b13",
   "metadata": {},
   "outputs": [],
   "source": [
    "classifier.add(Dense(units=7,activation='relu'))"
   ]
  },
  {
   "cell_type": "code",
   "execution_count": 19,
   "id": "7e95e566",
   "metadata": {},
   "outputs": [],
   "source": [
    "classifier.add(Dense(units=6,activation='relu'))"
   ]
  },
  {
   "cell_type": "code",
   "execution_count": 20,
   "id": "efb1e7e0",
   "metadata": {},
   "outputs": [],
   "source": [
    "classifier.add(Dense(units=1,activation='sigmoid'))"
   ]
  },
  {
   "cell_type": "code",
   "execution_count": 21,
   "id": "30a2f31d",
   "metadata": {},
   "outputs": [],
   "source": [
    "classifier.compile(optimizer='adam',loss='binary_crossentropy',metrics=['accuracy'])"
   ]
  },
  {
   "cell_type": "code",
   "execution_count": 22,
   "id": "31f4e614",
   "metadata": {},
   "outputs": [],
   "source": [
    "early=tf.keras.callbacks.EarlyStopping(\n",
    "    monitor=\"val_loss\",\n",
    "    min_delta=0.0001,\n",
    "    patience=20,\n",
    "    verbose=1,\n",
    "    mode=\"auto\",\n",
    "    baseline=None,\n",
    "    restore_best_weights=False,\n",
    ")"
   ]
  },
  {
   "cell_type": "code",
   "execution_count": 23,
   "id": "353640f4",
   "metadata": {},
   "outputs": [
    {
     "name": "stdout",
     "output_type": "stream",
     "text": [
      "Epoch 1/1000\n",
      "536/536 [==============================] - 1s 1ms/step - loss: 0.5297 - accuracy: 0.7520 - val_loss: 0.4562 - val_accuracy: 0.7959\n",
      "Epoch 2/1000\n",
      "536/536 [==============================] - 1s 1ms/step - loss: 0.4363 - accuracy: 0.8000 - val_loss: 0.4206 - val_accuracy: 0.8092\n",
      "Epoch 3/1000\n",
      "536/536 [==============================] - 1s 1ms/step - loss: 0.3992 - accuracy: 0.8291 - val_loss: 0.3948 - val_accuracy: 0.8277\n",
      "Epoch 4/1000\n",
      "536/536 [==============================] - 1s 1ms/step - loss: 0.3754 - accuracy: 0.8431 - val_loss: 0.3783 - val_accuracy: 0.8376\n",
      "Epoch 5/1000\n",
      "536/536 [==============================] - 1s 1ms/step - loss: 0.3603 - accuracy: 0.8503 - val_loss: 0.3712 - val_accuracy: 0.8417\n",
      "Epoch 6/1000\n",
      "536/536 [==============================] - 1s 1ms/step - loss: 0.3534 - accuracy: 0.8533 - val_loss: 0.3665 - val_accuracy: 0.8489\n",
      "Epoch 7/1000\n",
      "536/536 [==============================] - 1s 1ms/step - loss: 0.3495 - accuracy: 0.8548 - val_loss: 0.3654 - val_accuracy: 0.8478\n",
      "Epoch 8/1000\n",
      "536/536 [==============================] - 1s 1ms/step - loss: 0.3468 - accuracy: 0.8559 - val_loss: 0.3679 - val_accuracy: 0.8413\n",
      "Epoch 9/1000\n",
      "536/536 [==============================] - 1s 1ms/step - loss: 0.3446 - accuracy: 0.8546 - val_loss: 0.3649 - val_accuracy: 0.8463\n",
      "Epoch 10/1000\n",
      "536/536 [==============================] - 1s 1ms/step - loss: 0.3420 - accuracy: 0.8584 - val_loss: 0.3624 - val_accuracy: 0.8497\n",
      "Epoch 11/1000\n",
      "536/536 [==============================] - 1s 1ms/step - loss: 0.3394 - accuracy: 0.8589 - val_loss: 0.3623 - val_accuracy: 0.8504\n",
      "Epoch 12/1000\n",
      "536/536 [==============================] - 1s 1ms/step - loss: 0.3386 - accuracy: 0.8582 - val_loss: 0.3619 - val_accuracy: 0.8493\n",
      "Epoch 13/1000\n",
      "536/536 [==============================] - 1s 1ms/step - loss: 0.3381 - accuracy: 0.8578 - val_loss: 0.3607 - val_accuracy: 0.8478\n",
      "Epoch 14/1000\n",
      "536/536 [==============================] - 1s 1ms/step - loss: 0.3372 - accuracy: 0.8614 - val_loss: 0.3601 - val_accuracy: 0.8493\n",
      "Epoch 15/1000\n",
      "536/536 [==============================] - 1s 1ms/step - loss: 0.3356 - accuracy: 0.8608 - val_loss: 0.3596 - val_accuracy: 0.8512\n",
      "Epoch 16/1000\n",
      "536/536 [==============================] - 1s 1ms/step - loss: 0.3351 - accuracy: 0.8614 - val_loss: 0.3602 - val_accuracy: 0.8478\n",
      "Epoch 17/1000\n",
      "536/536 [==============================] - 1s 1ms/step - loss: 0.3338 - accuracy: 0.8628 - val_loss: 0.3598 - val_accuracy: 0.8478\n",
      "Epoch 18/1000\n",
      "536/536 [==============================] - 1s 1ms/step - loss: 0.3335 - accuracy: 0.8600 - val_loss: 0.3595 - val_accuracy: 0.8478\n",
      "Epoch 19/1000\n",
      "536/536 [==============================] - 1s 1ms/step - loss: 0.3327 - accuracy: 0.8615 - val_loss: 0.3592 - val_accuracy: 0.8489\n",
      "Epoch 20/1000\n",
      "536/536 [==============================] - 1s 1ms/step - loss: 0.3328 - accuracy: 0.8638 - val_loss: 0.3593 - val_accuracy: 0.8478\n",
      "Epoch 21/1000\n",
      "536/536 [==============================] - 1s 1ms/step - loss: 0.3317 - accuracy: 0.8627 - val_loss: 0.3596 - val_accuracy: 0.8493\n",
      "Epoch 22/1000\n",
      "536/536 [==============================] - 1s 1ms/step - loss: 0.3309 - accuracy: 0.8636 - val_loss: 0.3616 - val_accuracy: 0.8459\n",
      "Epoch 23/1000\n",
      "536/536 [==============================] - 1s 1ms/step - loss: 0.3307 - accuracy: 0.8649 - val_loss: 0.3600 - val_accuracy: 0.8504\n",
      "Epoch 24/1000\n",
      "536/536 [==============================] - 1s 1ms/step - loss: 0.3299 - accuracy: 0.8671 - val_loss: 0.3590 - val_accuracy: 0.8470\n",
      "Epoch 25/1000\n",
      "536/536 [==============================] - 1s 1ms/step - loss: 0.3292 - accuracy: 0.8649 - val_loss: 0.3583 - val_accuracy: 0.8493\n",
      "Epoch 26/1000\n",
      "536/536 [==============================] - 1s 1ms/step - loss: 0.3291 - accuracy: 0.8668 - val_loss: 0.3585 - val_accuracy: 0.8466\n",
      "Epoch 27/1000\n",
      "536/536 [==============================] - 1s 1ms/step - loss: 0.3280 - accuracy: 0.8664 - val_loss: 0.3579 - val_accuracy: 0.8482\n",
      "Epoch 28/1000\n",
      "536/536 [==============================] - 1s 1ms/step - loss: 0.3279 - accuracy: 0.8645 - val_loss: 0.3581 - val_accuracy: 0.8497\n",
      "Epoch 29/1000\n",
      "536/536 [==============================] - 1s 1ms/step - loss: 0.3273 - accuracy: 0.8668 - val_loss: 0.3580 - val_accuracy: 0.8482\n",
      "Epoch 30/1000\n",
      "536/536 [==============================] - 1s 1ms/step - loss: 0.3269 - accuracy: 0.8643 - val_loss: 0.3589 - val_accuracy: 0.8474\n",
      "Epoch 31/1000\n",
      "536/536 [==============================] - 1s 1ms/step - loss: 0.3264 - accuracy: 0.8647 - val_loss: 0.3574 - val_accuracy: 0.8501\n",
      "Epoch 32/1000\n",
      "536/536 [==============================] - 1s 1ms/step - loss: 0.3250 - accuracy: 0.8660 - val_loss: 0.3577 - val_accuracy: 0.8485\n",
      "Epoch 33/1000\n",
      "536/536 [==============================] - 1s 1ms/step - loss: 0.3255 - accuracy: 0.8656 - val_loss: 0.3594 - val_accuracy: 0.8466\n",
      "Epoch 34/1000\n",
      "536/536 [==============================] - 1s 1ms/step - loss: 0.3248 - accuracy: 0.8673 - val_loss: 0.3591 - val_accuracy: 0.8497\n",
      "Epoch 35/1000\n",
      "536/536 [==============================] - 1s 1ms/step - loss: 0.3249 - accuracy: 0.8677 - val_loss: 0.3572 - val_accuracy: 0.8497\n",
      "Epoch 36/1000\n",
      "536/536 [==============================] - 1s 1ms/step - loss: 0.3236 - accuracy: 0.8640 - val_loss: 0.3597 - val_accuracy: 0.8482\n",
      "Epoch 37/1000\n",
      "536/536 [==============================] - 1s 1ms/step - loss: 0.3247 - accuracy: 0.8638 - val_loss: 0.3544 - val_accuracy: 0.8504\n",
      "Epoch 38/1000\n",
      "536/536 [==============================] - 1s 1ms/step - loss: 0.3229 - accuracy: 0.8668 - val_loss: 0.3572 - val_accuracy: 0.8501\n",
      "Epoch 39/1000\n",
      "536/536 [==============================] - 1s 1ms/step - loss: 0.3228 - accuracy: 0.8673 - val_loss: 0.3543 - val_accuracy: 0.8512\n",
      "Epoch 40/1000\n",
      "536/536 [==============================] - 1s 1ms/step - loss: 0.3224 - accuracy: 0.8670 - val_loss: 0.3559 - val_accuracy: 0.8485\n",
      "Epoch 41/1000\n",
      "536/536 [==============================] - 1s 1ms/step - loss: 0.3218 - accuracy: 0.8655 - val_loss: 0.3534 - val_accuracy: 0.8546\n",
      "Epoch 42/1000\n",
      "536/536 [==============================] - 1s 1ms/step - loss: 0.3207 - accuracy: 0.8686 - val_loss: 0.3546 - val_accuracy: 0.8523\n",
      "Epoch 43/1000\n",
      "536/536 [==============================] - 1s 1ms/step - loss: 0.3208 - accuracy: 0.8696 - val_loss: 0.3554 - val_accuracy: 0.8554\n",
      "Epoch 44/1000\n",
      "536/536 [==============================] - 1s 1ms/step - loss: 0.3204 - accuracy: 0.8677 - val_loss: 0.3544 - val_accuracy: 0.8527\n",
      "Epoch 45/1000\n",
      "536/536 [==============================] - 1s 1ms/step - loss: 0.3206 - accuracy: 0.8670 - val_loss: 0.3545 - val_accuracy: 0.8527\n",
      "Epoch 46/1000\n",
      "536/536 [==============================] - 1s 1ms/step - loss: 0.3197 - accuracy: 0.8688 - val_loss: 0.3551 - val_accuracy: 0.8512\n",
      "Epoch 47/1000\n",
      "536/536 [==============================] - 1s 1ms/step - loss: 0.3197 - accuracy: 0.8683 - val_loss: 0.3532 - val_accuracy: 0.8535\n",
      "Epoch 48/1000\n",
      "536/536 [==============================] - 1s 1ms/step - loss: 0.3193 - accuracy: 0.8675 - val_loss: 0.3549 - val_accuracy: 0.8501\n",
      "Epoch 49/1000\n",
      "536/536 [==============================] - 1s 1ms/step - loss: 0.3195 - accuracy: 0.8664 - val_loss: 0.3536 - val_accuracy: 0.8531\n",
      "Epoch 50/1000\n",
      "536/536 [==============================] - 1s 1ms/step - loss: 0.3187 - accuracy: 0.8688 - val_loss: 0.3556 - val_accuracy: 0.8493\n",
      "Epoch 51/1000\n",
      "536/536 [==============================] - 1s 1ms/step - loss: 0.3193 - accuracy: 0.8698 - val_loss: 0.3546 - val_accuracy: 0.8523\n",
      "Epoch 52/1000\n",
      "536/536 [==============================] - 1s 1ms/step - loss: 0.3178 - accuracy: 0.8707 - val_loss: 0.3537 - val_accuracy: 0.8554\n",
      "Epoch 53/1000\n",
      "536/536 [==============================] - 1s 1ms/step - loss: 0.3189 - accuracy: 0.8670 - val_loss: 0.3530 - val_accuracy: 0.8550\n",
      "Epoch 54/1000\n",
      "536/536 [==============================] - 1s 1ms/step - loss: 0.3182 - accuracy: 0.8692 - val_loss: 0.3538 - val_accuracy: 0.8523\n",
      "Epoch 55/1000\n",
      "536/536 [==============================] - 1s 1ms/step - loss: 0.3183 - accuracy: 0.8688 - val_loss: 0.3547 - val_accuracy: 0.8546\n",
      "Epoch 56/1000\n",
      "536/536 [==============================] - 1s 1ms/step - loss: 0.3185 - accuracy: 0.8658 - val_loss: 0.3548 - val_accuracy: 0.8501\n",
      "Epoch 57/1000\n"
     ]
    },
    {
     "name": "stdout",
     "output_type": "stream",
     "text": [
      "536/536 [==============================] - 1s 1ms/step - loss: 0.3175 - accuracy: 0.8698 - val_loss: 0.3536 - val_accuracy: 0.8516\n",
      "Epoch 58/1000\n",
      "536/536 [==============================] - 1s 1ms/step - loss: 0.3185 - accuracy: 0.8675 - val_loss: 0.3540 - val_accuracy: 0.8516\n",
      "Epoch 59/1000\n",
      "536/536 [==============================] - 1s 1ms/step - loss: 0.3176 - accuracy: 0.8683 - val_loss: 0.3533 - val_accuracy: 0.8501\n",
      "Epoch 60/1000\n",
      "536/536 [==============================] - 1s 1ms/step - loss: 0.3172 - accuracy: 0.8688 - val_loss: 0.3537 - val_accuracy: 0.8512\n",
      "Epoch 61/1000\n",
      "536/536 [==============================] - 1s 1ms/step - loss: 0.3161 - accuracy: 0.8699 - val_loss: 0.3553 - val_accuracy: 0.8561\n",
      "Epoch 62/1000\n",
      "536/536 [==============================] - 1s 1ms/step - loss: 0.3164 - accuracy: 0.8712 - val_loss: 0.3560 - val_accuracy: 0.8519\n",
      "Epoch 63/1000\n",
      "536/536 [==============================] - 1s 1ms/step - loss: 0.3166 - accuracy: 0.8673 - val_loss: 0.3529 - val_accuracy: 0.8523\n",
      "Epoch 64/1000\n",
      "536/536 [==============================] - 1s 1ms/step - loss: 0.3165 - accuracy: 0.8671 - val_loss: 0.3534 - val_accuracy: 0.8508\n",
      "Epoch 65/1000\n",
      "536/536 [==============================] - 1s 1ms/step - loss: 0.3160 - accuracy: 0.8692 - val_loss: 0.3554 - val_accuracy: 0.8516\n",
      "Epoch 66/1000\n",
      "536/536 [==============================] - 1s 1ms/step - loss: 0.3159 - accuracy: 0.8696 - val_loss: 0.3538 - val_accuracy: 0.8519\n",
      "Epoch 67/1000\n",
      "536/536 [==============================] - 1s 1ms/step - loss: 0.3155 - accuracy: 0.8709 - val_loss: 0.3536 - val_accuracy: 0.8493\n",
      "Epoch 68/1000\n",
      "536/536 [==============================] - 1s 1ms/step - loss: 0.3152 - accuracy: 0.8705 - val_loss: 0.3539 - val_accuracy: 0.8508\n",
      "Epoch 69/1000\n",
      "536/536 [==============================] - 1s 1ms/step - loss: 0.3158 - accuracy: 0.8681 - val_loss: 0.3539 - val_accuracy: 0.8501\n",
      "Epoch 70/1000\n",
      "536/536 [==============================] - 1s 1ms/step - loss: 0.3151 - accuracy: 0.8696 - val_loss: 0.3531 - val_accuracy: 0.8538\n",
      "Epoch 71/1000\n",
      "536/536 [==============================] - 1s 2ms/step - loss: 0.3149 - accuracy: 0.8690 - val_loss: 0.3553 - val_accuracy: 0.8516\n",
      "Epoch 72/1000\n",
      "536/536 [==============================] - 1s 1ms/step - loss: 0.3147 - accuracy: 0.8688 - val_loss: 0.3530 - val_accuracy: 0.8561\n",
      "Epoch 73/1000\n",
      "536/536 [==============================] - 1s 1ms/step - loss: 0.3144 - accuracy: 0.8696 - val_loss: 0.3534 - val_accuracy: 0.8535\n",
      "Epoch 74/1000\n",
      "536/536 [==============================] - 1s 1ms/step - loss: 0.3137 - accuracy: 0.8688 - val_loss: 0.3534 - val_accuracy: 0.8535\n",
      "Epoch 75/1000\n",
      "536/536 [==============================] - 1s 1ms/step - loss: 0.3141 - accuracy: 0.8699 - val_loss: 0.3531 - val_accuracy: 0.8546\n",
      "Epoch 76/1000\n",
      "536/536 [==============================] - 1s 1ms/step - loss: 0.3131 - accuracy: 0.8699 - val_loss: 0.3565 - val_accuracy: 0.8535\n",
      "Epoch 77/1000\n",
      "536/536 [==============================] - 1s 1ms/step - loss: 0.3135 - accuracy: 0.8671 - val_loss: 0.3536 - val_accuracy: 0.8557\n",
      "Epoch 78/1000\n",
      "536/536 [==============================] - 1s 1ms/step - loss: 0.3129 - accuracy: 0.8673 - val_loss: 0.3531 - val_accuracy: 0.8550\n",
      "Epoch 79/1000\n",
      "536/536 [==============================] - 1s 1ms/step - loss: 0.3131 - accuracy: 0.8705 - val_loss: 0.3568 - val_accuracy: 0.8535\n",
      "Epoch 80/1000\n",
      "536/536 [==============================] - 1s 1ms/step - loss: 0.3138 - accuracy: 0.8686 - val_loss: 0.3534 - val_accuracy: 0.8554\n",
      "Epoch 81/1000\n",
      "536/536 [==============================] - 1s 1ms/step - loss: 0.3116 - accuracy: 0.8699 - val_loss: 0.3554 - val_accuracy: 0.8554\n",
      "Epoch 82/1000\n",
      "536/536 [==============================] - 1s 1ms/step - loss: 0.3137 - accuracy: 0.8670 - val_loss: 0.3550 - val_accuracy: 0.8546\n",
      "Epoch 83/1000\n",
      "536/536 [==============================] - 1s 1ms/step - loss: 0.3120 - accuracy: 0.8690 - val_loss: 0.3579 - val_accuracy: 0.8576\n",
      "Epoch 83: early stopping\n"
     ]
    }
   ],
   "source": [
    "model_history=classifier.fit(xtrain,ytrain,validation_split=.33,batch_size=10,epochs=1000,callbacks=early)"
   ]
  },
  {
   "cell_type": "code",
   "execution_count": 24,
   "id": "986c2852",
   "metadata": {},
   "outputs": [
    {
     "data": {
      "text/plain": [
       "dict_keys(['loss', 'accuracy', 'val_loss', 'val_accuracy'])"
      ]
     },
     "execution_count": 24,
     "metadata": {},
     "output_type": "execute_result"
    }
   ],
   "source": [
    "model_history.history.keys()"
   ]
  },
  {
   "cell_type": "code",
   "execution_count": 25,
   "id": "7c61b3df",
   "metadata": {},
   "outputs": [
    {
     "data": {
      "text/plain": [
       "<matplotlib.legend.Legend at 0x27589244d60>"
      ]
     },
     "execution_count": 25,
     "metadata": {},
     "output_type": "execute_result"
    },
    {
     "data": {
      "image/png": "[encoded data removed]",
      "text/plain": [
       "<Figure size 432x288 with 1 Axes>"
      ]
     },
     "metadata": {
      "needs_background": "light"
     },
     "output_type": "display_data"
    }
   ],
   "source": [
    "plt.plot(model_history.history['accuracy'])\n",
    "plt.plot(model_history.history['val_accuracy'])\n",
    "plt.xlabel(\"Epochs\")\n",
    "plt.ylabel(\"accuracy\")\n",
    "plt.legend(['train','test'])"
   ]
  },
  {
   "cell_type": "code",
   "execution_count": null,
   "id": "64f5b7d7",
   "metadata": {},
   "outputs": [],
   "source": []
  }
 ],
 "metadata": {
  "kernelspec": {
   "display_name": "Python 3 (ipykernel)",
   "language": "python",
   "name": "python3"
  },
  "language_info": {
   "codemirror_mode": {
    "name": "ipython",
    "version": 3
   },
   "file_extension": ".py",
   "mimetype": "text/x-python",
   "name": "python",
   "nbconvert_exporter": "python",
   "pygments_lexer": "ipython3",
   "version": "3.9.12"
  }
 },
 "nbformat": 4,
 "nbformat_minor": 5
}
